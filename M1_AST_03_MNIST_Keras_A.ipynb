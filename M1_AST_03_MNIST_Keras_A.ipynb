{
  "cells": [
    {
      "cell_type": "markdown",
      "metadata": {
        "id": "view-in-github",
        "colab_type": "text"
      },
      "source": [
        "<a href=\"https://colab.research.google.com/github/zuber129/aimlops-colab-worksheets/blob/main/M1_AST_03_MNIST_Keras_A.ipynb\" target=\"_parent\"><img src=\"https://colab.research.google.com/assets/colab-badge.svg\" alt=\"Open In Colab\"/></a>"
      ]
    },
    {
      "cell_type": "markdown",
      "metadata": {
        "id": "yu-PlLvK6pvl"
      },
      "source": [
        "# Advanced Certification Programme in AI and MLOps\n",
        "## A programme by IISc and TalentSprint\n",
        "### Assignment: MNIST_Keras"
      ]
    },
    {
      "cell_type": "markdown",
      "metadata": {
        "id": "2Y-w8Vn7pVP2"
      },
      "source": [
        "## Learning Objectives:\n",
        "\n",
        "In this tutorial, we will learn to implement the following:\n",
        "\n",
        "\n",
        "1.   Building a neural network from scratch with tensorflow operations\n",
        "2.   Keras Sequential API\n",
        "3.   Keras Functional API\n",
        "4.   Keras Model subclassing\n",
        "5.   Callbacks"
      ]
    },
    {
      "cell_type": "markdown",
      "source": [
        "## Introduction to Keras\n",
        "\n",
        "Keras is an open-source neural network library written in Python that allows you to build and train deep learning models. It provides a user-friendly and modular API for creating and configuring deep neural networks with high-level abstractions. Keras is built on top of other popular deep learning frameworks such as TensorFlow, Theano, and CNTK. It has a wide range of applications in areas such as computer vision, natural language processing, and time-series forecasting."
      ],
      "metadata": {
        "id": "75f6R38aUnJn"
      }
    },
    {
      "cell_type": "markdown",
      "metadata": {
        "id": "BNLA8HiKxQhc"
      },
      "source": [
        "### Setup Steps:"
      ]
    },
    {
      "cell_type": "code",
      "execution_count": null,
      "metadata": {
        "id": "2YzfoPvJDiTX"
      },
      "outputs": [],
      "source": [
        "#@title Please enter your registration id to start: { run: \"auto\", display-mode: \"form\" }\n",
        "Id = \"\" #@param {type:\"string\"}"
      ]
    },
    {
      "cell_type": "code",
      "execution_count": null,
      "metadata": {
        "id": "AjoZJWGErxGf"
      },
      "outputs": [],
      "source": [
        "#@title Please enter your password (your registered phone number) to continue: { run: \"auto\", display-mode: \"form\" }\n",
        "password = \"\" #@param {type:\"string\"}"
      ]
    },
    {
      "cell_type": "code",
      "execution_count": null,
      "metadata": {
        "cellView": "form",
        "id": "WBPPuGmBlDIN"
      },
      "outputs": [],
      "source": [
        "#@title Run this cell to complete the setup for this Notebook\n",
        "from IPython import get_ipython\n",
        "\n",
        "ipython = get_ipython()\n",
        "  \n",
        "notebook= \"M1_AST_03_MNIST_Keras_A\" #name of the notebook\n",
        "\n",
        "def setup():\n",
        "#  ipython.magic(\"sx pip3 install torch\")  \n",
        "\n",
        "    from IPython.display import HTML, display\n",
        "    display(HTML('<script src=\"https://dashboard.talentsprint.com/aiml/record_ip.html?traineeId={0}&recordId={1}\"></script>'.format(getId(),submission_id)))\n",
        "    print(\"Setup completed successfully\")\n",
        "    return\n",
        "\n",
        "def submit_notebook():\n",
        "    ipython.magic(\"notebook -e \"+ notebook + \".ipynb\")\n",
        "    \n",
        "    import requests, json, base64, datetime\n",
        "\n",
        "    url = \"https://dashboard.talentsprint.com/xp/app/save_notebook_attempts\"\n",
        "    if not submission_id:\n",
        "      data = {\"id\" : getId(), \"notebook\" : notebook, \"mobile\" : getPassword()}\n",
        "      r = requests.post(url, data = data)\n",
        "      r = json.loads(r.text)\n",
        "\n",
        "      if r[\"status\"] == \"Success\":\n",
        "          return r[\"record_id\"]\n",
        "      elif \"err\" in r:        \n",
        "        print(r[\"err\"])\n",
        "        return None        \n",
        "      else:\n",
        "        print (\"Something is wrong, the notebook will not be submitted for grading\")\n",
        "        return None\n",
        "    \n",
        "    elif getAnswer() and getComplexity() and getAdditional() and getConcepts() and getComments() and getMentorSupport():\n",
        "      f = open(notebook + \".ipynb\", \"rb\")\n",
        "      file_hash = base64.b64encode(f.read())\n",
        "\n",
        "      data = {\"complexity\" : Complexity, \"additional\" :Additional, \n",
        "              \"concepts\" : Concepts, \"record_id\" : submission_id, \n",
        "              \"answer\" : Answer, \"id\" : Id, \"file_hash\" : file_hash,\n",
        "              \"notebook\" : notebook,\n",
        "              \"feedback_experiments_input\" : Comments,\n",
        "              \"feedback_mentor_support\": Mentor_support}\n",
        "      r = requests.post(url, data = data)\n",
        "      r = json.loads(r.text)\n",
        "      if \"err\" in r:        \n",
        "        print(r[\"err\"])\n",
        "        return None   \n",
        "      else:\n",
        "        print(\"Your submission is successful.\")\n",
        "        print(\"Ref Id:\", submission_id)\n",
        "        print(\"Date of submission: \", r[\"date\"])\n",
        "        print(\"Time of submission: \", r[\"time\"])\n",
        "        print(\"View your submissions: https://aimlops-iisc.talentsprint.com/notebook_submissions\")\n",
        "        #print(\"For any queries/discrepancies, please connect with mentors through the chat icon in LMS dashboard.\")\n",
        "        return submission_id\n",
        "    else: submission_id\n",
        "    \n",
        "\n",
        "def getAdditional():\n",
        "  try:\n",
        "    if not Additional: \n",
        "      raise NameError\n",
        "    else:\n",
        "      return Additional  \n",
        "  except NameError:\n",
        "    print (\"Please answer Additional Question\")\n",
        "    return None\n",
        "\n",
        "def getComplexity():\n",
        "  try:\n",
        "    if not Complexity:\n",
        "      raise NameError\n",
        "    else:\n",
        "      return Complexity\n",
        "  except NameError:\n",
        "    print (\"Please answer Complexity Question\")\n",
        "    return None\n",
        "  \n",
        "def getConcepts():\n",
        "  try:\n",
        "    if not Concepts:\n",
        "      raise NameError\n",
        "    else:\n",
        "      return Concepts\n",
        "  except NameError:\n",
        "    print (\"Please answer Concepts Question\")\n",
        "    return None\n",
        "  \n",
        "  \n",
        "# def getWalkthrough():\n",
        "#   try:\n",
        "#     if not Walkthrough:\n",
        "#       raise NameError\n",
        "#     else:\n",
        "#       return Walkthrough\n",
        "#   except NameError:\n",
        "#     print (\"Please answer Walkthrough Question\")\n",
        "#     return None\n",
        "  \n",
        "def getComments():\n",
        "  try:\n",
        "    if not Comments:\n",
        "      raise NameError\n",
        "    else:\n",
        "      return Comments\n",
        "  except NameError:\n",
        "    print (\"Please answer Comments Question\")\n",
        "    return None\n",
        "  \n",
        "\n",
        "def getMentorSupport():\n",
        "  try:\n",
        "    if not Mentor_support:\n",
        "      raise NameError\n",
        "    else:\n",
        "      return Mentor_support\n",
        "  except NameError:\n",
        "    print (\"Please answer Mentor support Question\")\n",
        "    return None\n",
        "\n",
        "def getAnswer():\n",
        "  try:\n",
        "    if not Answer:\n",
        "      raise NameError \n",
        "    else: \n",
        "      return Answer\n",
        "  except NameError:\n",
        "    print (\"Please answer Question\")\n",
        "    return None\n",
        "  \n",
        "\n",
        "def getId():\n",
        "  try: \n",
        "    return Id if Id else None\n",
        "  except NameError:\n",
        "    return None\n",
        "\n",
        "def getPassword():\n",
        "  try:\n",
        "    return password if password else None\n",
        "  except NameError:\n",
        "    return None\n",
        "\n",
        "submission_id = None\n",
        "### Setup \n",
        "if getPassword() and getId():\n",
        "  submission_id = submit_notebook()\n",
        "  if submission_id:\n",
        "    setup() \n",
        "else:\n",
        "  print (\"Please complete Id and Password cells before running setup\")\n",
        "\n"
      ]
    },
    {
      "cell_type": "markdown",
      "metadata": {
        "id": "eatd_MK1leSr"
      },
      "source": [
        "## Import libraries"
      ]
    },
    {
      "cell_type": "code",
      "execution_count": null,
      "metadata": {
        "id": "Ycvvjf4Iw2nc"
      },
      "outputs": [],
      "source": [
        "import tensorflow as tf\n",
        "from tensorflow import keras\n",
        "import math\n",
        "import numpy as np\n",
        "import pandas as pd\n",
        "import matplotlib.pyplot as plt \n",
        "\n",
        "from keras.layers import Dense, Flatten\n",
        "from keras import Input\n",
        "from tensorflow.keras.utils import plot_model\n",
        "\n",
        "from tensorflow.keras.datasets import mnist, fashion_mnist"
      ]
    },
    {
      "cell_type": "markdown",
      "metadata": {
        "id": "517QIYKpfVuw"
      },
      "source": [
        "# Basic Sequential Model"
      ]
    },
    {
      "cell_type": "markdown",
      "metadata": {
        "id": "_Tdm4MV4T7ws"
      },
      "source": [
        "We want to build a sequential model. This means that the layers of our neural network are stacked sequentially. The approach is as follows:\n",
        "1.  First implement a class to build a dense layer. We call it \"NaiveDense\"\n",
        "2.  Implement a class (\"NaiveSequential\") to stack the layers sequentially and build a sequential model. \n"
      ]
    },
    {
      "cell_type": "code",
      "execution_count": null,
      "metadata": {
        "id": "xpdyi8kVw-zz"
      },
      "outputs": [],
      "source": [
        "# Implementing our dense layer class\n",
        "class NaiveDense:\n",
        "  def __init__(self, input_size, output_size, activation):  #input and output sizes for the layer\n",
        "    self.activation = activation\n",
        "\n",
        "    w_shape = (input_size, output_size)       # matrix of weights\n",
        "    w_initial_value = tf.random.uniform(w_shape, minval=0, maxval=1e-1)\n",
        "    self.w = tf.Variable(w_initial_value)     # we can only update values of tf.Variables\n",
        "\n",
        "    b_shape = (output_size,)                  # vector of biases\n",
        "    b_initial_value = tf.zeros(b_shape)\n",
        "    self.b = tf.Variable(b_initial_value)\n",
        "\n",
        "  def __call__(self, inputs):                 # executed when the class object is used as a function\n",
        "    return self.activation(tf.matmul(inputs, self.w)+self.b)      # self.b is broadcasted\n",
        "\n",
        "  @property                                   # enables us to use the method as an attribute\n",
        "  def weights(self):\n",
        "    return (self.w, self.b)"
      ]
    },
    {
      "cell_type": "markdown",
      "metadata": {
        "id": "zggIWLcPbj-2"
      },
      "source": [
        "We implemented a dense layer. Now we will stack them together sequentially in our NaiveSequential class"
      ]
    },
    {
      "cell_type": "code",
      "execution_count": null,
      "metadata": {
        "id": "0kA-qPdezucM"
      },
      "outputs": [],
      "source": [
        "class NaiveSequential:\n",
        "  def __init__(self,layers):    # layers: list of layer objects\n",
        "    self.layers = layers\n",
        "\n",
        "  def __call__(self, inputs):   \n",
        "    x = inputs\n",
        "    for layer in self.layers:     #ouptut of the prev layer is the input to the next layer\n",
        "      x = layer(x)\n",
        "    return x\n",
        "\n",
        "  @property\n",
        "  def weights(self):\n",
        "    weights = []\n",
        "    for layer in self.layers:     # save weights of each layer to a list\n",
        "      weights += layer.weights    # Q: What does layer.weights return? \n",
        "    return weights                # A: layer.weights calls the function layer.weights() since it decorated with @property. It returns (w,b)\n",
        "\n"
      ]
    },
    {
      "cell_type": "markdown",
      "metadata": {
        "id": "6WNsmMS1dlKn"
      },
      "source": [
        "Sequential stacking of dense layer is implemented.\n",
        "\n",
        "Instantiate NaiveSequential class and make our first NN model."
      ]
    },
    {
      "cell_type": "code",
      "execution_count": null,
      "metadata": {
        "id": "d6D514nbI_-h"
      },
      "outputs": [],
      "source": [
        "# define the model\n",
        "# YOUR CODE HERE\n",
        "\n",
        "#  Q: What input argument does NaiveSequential take? A: list of layer objects\n",
        "#  Q: What is the input and output dimension of the overall model? A: input dim = 784, output dim = 10\n",
        "#  Q: Can the output_size of 1 layer be different from the input_size of the next layer? A: No, they have to be the same."
      ]
    },
    {
      "cell_type": "markdown",
      "source": [
        "'model' is the object of 'NaiveSequential' class. This class has 'weights' as one of the methods of the class which is accessed using 'model.weights'. When 'NaiveDense' class is used as a function it will return the initial values of weights and biases."
      ],
      "metadata": {
        "id": "ud2-Cqli9IMV"
      }
    },
    {
      "cell_type": "code",
      "execution_count": null,
      "metadata": {
        "id": "xQ-ZcN9-z4Po"
      },
      "outputs": [],
      "source": [
        "# YOUR CODE HERE"
      ]
    },
    {
      "cell_type": "markdown",
      "metadata": {
        "id": "elt6Stitd89N"
      },
      "source": [
        "The sequential model is untrained and currently not useful.\n",
        "\n",
        "We must train the model to make it learn useful representaions but first we need data.\n",
        "\n",
        "Solve a calssification problem by using above sequential model for [MNIST data set](https://keras.io/api/datasets/mnist/). \n",
        "\n",
        "We must \n",
        "1. Load the data\n",
        "2. Reshape the data according to the input shape of the model\n",
        "3. Normalize the data"
      ]
    },
    {
      "cell_type": "code",
      "execution_count": null,
      "metadata": {
        "id": "VI9typezHEjU"
      },
      "outputs": [],
      "source": [
        "# Load data\n",
        "# YOUR CODE HERE\n",
        "# Q: How many samples does the training set have? A: 60000\n",
        "\n",
        "# reshape and normalize data\n",
        "# YOUR CODE HERE\n",
        "\n",
        "# YOUR CODE HERE"
      ]
    },
    {
      "cell_type": "markdown",
      "metadata": {
        "id": "Jzc2HM4d0xu4"
      },
      "source": [
        "### Visualize Image"
      ]
    },
    {
      "cell_type": "code",
      "execution_count": null,
      "metadata": {
        "id": "VR186wpO0nwO"
      },
      "outputs": [],
      "source": [
        "##Read image\n",
        "# YOUR CODE HERE"
      ]
    },
    {
      "cell_type": "markdown",
      "metadata": {
        "id": "tkUUYF4Ye4_q"
      },
      "source": [
        "We divide the data into batches. For this operation, we implement a class for Batch Generation."
      ]
    },
    {
      "cell_type": "code",
      "execution_count": null,
      "metadata": {
        "id": "5GXARTD3uDNr"
      },
      "outputs": [],
      "source": [
        "# Create Batch Generator Class\n",
        "# YOUR CODE HERE"
      ]
    },
    {
      "cell_type": "markdown",
      "source": [
        "'batch_generator.num_batches' is an attribute of the 'BatchGenerator' class which represents the total number of batches that can be generated from the given dataset of images and labels, based on the specified batch size. It is calculated as the total number of images divided by the batch size, rounded up to the nearest integer using the math.ceil() function."
      ],
      "metadata": {
        "id": "qlhLK02pBLd5"
      }
    },
    {
      "cell_type": "code",
      "execution_count": null,
      "metadata": {
        "id": "aZ44-4yk1QfU"
      },
      "outputs": [],
      "source": [
        "# YOUR CODE HERE"
      ]
    },
    {
      "cell_type": "markdown",
      "source": [
        "'batch_generator.next()' is a method of the BatchGenerator class which generates the next batch of images and labels from the dataset. Each time next() is called, it returns a tuple of images and labels corresponding to the next batch of size batch_size, and updates the internal index pointer to point to the start of the next batch."
      ],
      "metadata": {
        "id": "yq-nyLJWBixN"
      }
    },
    {
      "cell_type": "code",
      "execution_count": null,
      "metadata": {
        "colab": {
          "background_save": true
        },
        "id": "nxbB6T_V1ndM"
      },
      "outputs": [],
      "source": [
        "# YOUR CODE HERE"
      ]
    },
    {
      "cell_type": "markdown",
      "metadata": {
        "id": "UgMQxpCtDyA-"
      },
      "source": [
        "Once we have defined the model all we have to do to train it is:\n",
        "\n",
        "1.   model.compile()\n",
        "2.   model.fit()\n",
        "\n",
        "We should know what goes on behind the scenes. The steps involved in training a model:\n",
        "\n",
        "*Training steps:*\n",
        "\n",
        "1. Compute the predictions using current weights (Forward Pass).\n",
        "2. Compute the loss value for these predictions.\n",
        "3. Compute the gradient with regard to model weights.\n",
        "4. update the weights."
      ]
    },
    {
      "cell_type": "code",
      "execution_count": null,
      "metadata": {
        "id": "aFh4xHf3DuHT"
      },
      "outputs": [],
      "source": [
        "# one_training_step function gives the idea of how loss is computed and layer \\\n",
        "# parameters (weights and biases) are updated\n",
        "def one_training_step(model, images_batch, labels_batch):\n",
        "  with tf.GradientTape() as tape:                   # GradientTape() is the computational graph \n",
        "    predictions = model(images_batch)               # forward pass. \n",
        "    per_sample_losses = keras.losses.sparse_categorical_crossentropy(  # define loss\n",
        "        labels_batch, predictions\n",
        "    )\n",
        "    average_loss = tf.reduce_mean(per_sample_losses)  \n",
        "  gradients = tape.gradient(average_loss, model.weights)      # Compute gradients\n",
        "  update_weights(gradients, model.weights)                    # Update the weights\n",
        "  return average_loss\n",
        "\n",
        "learning_rate = 1e-3\n",
        "def update_weights(gradients, weights):\n",
        "  for g,w in zip(gradients, weights):\n",
        "    w.assign_sub(g*learning_rate)             # w -= g*lr\n",
        "    \n",
        "# Full training loop\n",
        "# YOUR CODE HERE\n",
        "# YOUR CODE HERE                       # repeat for epochs\n",
        "# YOUR CODE HERE\n",
        "# YOUR CODE HERE\n",
        "# YOUR CODE HERE      # go through all mini-batches in the data\n",
        "      images_batch, labels_batch = batch_generator.next()\n",
        "      loss = one_training_step(model, images_batch, labels_batch)\n",
        "      if batch_counter%100 == 0:\n",
        "        print(f\"loss at batch {batch_counter}:{loss:.2f}\")\n",
        "\n",
        "# Q: Identify the 4 training steps in the above code\n",
        "# A: They are present in the one_training_step function. See comments."
      ]
    },
    {
      "cell_type": "markdown",
      "metadata": {
        "id": "fi3VZPlPg1KQ"
      },
      "source": [
        "Train the model on MNIST data set."
      ]
    },
    {
      "cell_type": "code",
      "execution_count": null,
      "metadata": {
        "id": "4oHVb61nItzQ"
      },
      "outputs": [],
      "source": [
        "# YOUR CODE HERE\n",
        "\n",
        "# Q: we didn't do a compile step.... or did we?\n",
        "# A: In model.compile(), we pass information about the loss function, optimizer, and evaluation metric. \\\n",
        "#     In our naive implementation, instead of defining a separate compile() function, we have defined the loss \\\n",
        "#     inside one_training_step; implemented the optimizer 'mini-batch gradient descent' in update_weights(); \\\n",
        "#     and we are doing the evaluation (accuracy) separately in a later cell."
      ]
    },
    {
      "cell_type": "markdown",
      "metadata": {
        "id": "xr-wTuwUwntW"
      },
      "source": [
        "After 10 epochs the loss has come down.\n",
        "\n",
        "The model has definitely learned something. Lets evaluate how accurately it can predict labels for images **it has not seen before**. These are the **images in the test set**.\n",
        "\n",
        "Use the \"accuracy\" metric. Here we simply find the fraction of times the model succeeded in predicting the correct label.\n",
        "\n",
        "When using Keras, we would mention this metric in model.compile(). (More on Keras later)\n"
      ]
    },
    {
      "cell_type": "code",
      "execution_count": null,
      "metadata": {
        "id": "R0r_RULJJazg"
      },
      "outputs": [],
      "source": [
        "#  Evaluation step\n",
        "# YOUR CODE HERE"
      ]
    },
    {
      "cell_type": "markdown",
      "metadata": {
        "id": "cslrsAKOJNQz"
      },
      "source": [
        "\n",
        "\n",
        "\n",
        "---\n",
        "\n",
        "\n",
        "\n",
        "# **Different APIs**\n",
        "1. Sequential Model\n",
        "2. Functional API\n",
        "3. Model subclassing\n",
        "\n",
        "\n",
        "\n",
        "---\n",
        "\n",
        "\n",
        "\n",
        "---\n",
        "\n"
      ]
    },
    {
      "cell_type": "markdown",
      "metadata": {
        "id": "aE0TBr1TeyAz"
      },
      "source": [
        "# 1.Sequential API"
      ]
    },
    {
      "cell_type": "markdown",
      "metadata": {
        "id": "P9gpkdSyhHpS"
      },
      "source": [
        "Whatever has been implemented so far can be done alternatively using the Sequential class in keras. In the following approach, layers are passed as a list.\n",
        "\n",
        "Defining the same old model by subclassing the Model class [[Reference](https://keras.io/api/models/model/)]."
      ]
    },
    {
      "cell_type": "code",
      "execution_count": null,
      "metadata": {
        "id": "ruJTcQTYJMdc"
      },
      "outputs": [],
      "source": [
        "# from keras.layers import Dense, Flatten\n",
        "# from keras import Input\n",
        "\n",
        "# YOUR CODE HERE\n",
        "# Q: Do you notice a difference in arguments of the Dense layers, compared to our implementation?\n",
        "# A: We did not have write input_shape explicitly for each layer. It automatically inferred by Keras"
      ]
    },
    {
      "cell_type": "markdown",
      "metadata": {
        "id": "WQATPhMCbH7m"
      },
      "source": [
        "Alternatively, instead of passing layers as list, we can build a sequential model by adding layers incrementally to the model."
      ]
    },
    {
      "cell_type": "code",
      "execution_count": null,
      "metadata": {
        "id": "tUvX7v8za9wp"
      },
      "outputs": [],
      "source": [
        "# YOUR CODE HERE"
      ]
    },
    {
      "cell_type": "markdown",
      "metadata": {
        "id": "TMRVr06003Wc"
      },
      "source": [
        "Notice that we have not yet provided information of input dimensions.\n",
        "\n",
        "These layers are referred to as symbolic layers. "
      ]
    },
    {
      "cell_type": "markdown",
      "metadata": {
        "id": "BI55yU8yiyC4"
      },
      "source": [
        "Unless until you build the model layer weights are not created."
      ]
    },
    {
      "cell_type": "code",
      "execution_count": null,
      "metadata": {
        "id": "cnx4mD2Caz3g"
      },
      "outputs": [],
      "source": [
        "# YOUR CODE HERE"
      ]
    },
    {
      "cell_type": "markdown",
      "metadata": {
        "id": "LA3izeoUjhPM"
      },
      "source": [
        "To create a weights you need to call on some data or call its build method with input shape"
      ]
    },
    {
      "cell_type": "code",
      "execution_count": null,
      "metadata": {
        "id": "Ptmky2Mtce-b"
      },
      "outputs": [],
      "source": [
        "# YOUR CODE HERE  #None means it can take any batch size; 3 is the number of features in your input\n",
        "# YOUR CODE HERE\n",
        "\n",
        "# seq_model_inc.weights"
      ]
    },
    {
      "cell_type": "code",
      "execution_count": null,
      "metadata": {
        "id": "gkiK58yWc8C0"
      },
      "outputs": [],
      "source": [
        "# Display model summary\n",
        "# YOUR CODE HERE"
      ]
    },
    {
      "cell_type": "markdown",
      "metadata": {
        "id": "wThaAytu1-Od"
      },
      "source": [
        "Q: Verify the number of parameters by a quick calculation?\n",
        "\n",
        "A: 650 = 10*64 + 10 \n",
        "\n",
        "weight matrix has 64*10 weights and 10 biases for the 10 neurons"
      ]
    },
    {
      "cell_type": "markdown",
      "metadata": {
        "id": "OxvhrpKMdhN-"
      },
      "source": [
        "**Specifying input shape in advance**"
      ]
    },
    {
      "cell_type": "code",
      "execution_count": null,
      "metadata": {
        "id": "NgLTvjUOczAr"
      },
      "outputs": [],
      "source": [
        "# YOUR CODE HERE"
      ]
    },
    {
      "cell_type": "code",
      "execution_count": null,
      "metadata": {
        "id": "IY6_BFbzeYl-"
      },
      "outputs": [],
      "source": [
        "# YOUR CODE HERE"
      ]
    },
    {
      "cell_type": "markdown",
      "metadata": {
        "id": "n9C_bajdesXG"
      },
      "source": [
        "# 2. Functional API\n",
        "\n",
        "\n",
        "We will use the Keras functional API to create the same model. Keras functional API can create more flexible models than Sequential API. It can handle models with non-linear topology, shared layers, and even multiple inputs or outputs."
      ]
    },
    {
      "cell_type": "markdown",
      "metadata": {
        "id": "76zkbaPmeglO"
      },
      "source": [
        "Key Idea- Expresses each layer as a function of the previous layer."
      ]
    },
    {
      "cell_type": "markdown",
      "metadata": {
        "id": "gWdrmokoqly3"
      },
      "source": [
        "<center>(input: 3-dimensional vectors)</center> \n",
        "<center>  ↧ </center>\n",
        "<center>[Dense (64 units, relu activation)]</center>\n",
        "<center>   ↧ </center>\n",
        "<center>(output: 10 units, softmax activation)</center>"
      ]
    },
    {
      "cell_type": "markdown",
      "source": [
        "Defining the same old model by subclassing the Model class [[Reference](https://keras.io/api/models/model/)]."
      ],
      "metadata": {
        "id": "kJMD5LIDP6SG"
      }
    },
    {
      "cell_type": "code",
      "execution_count": null,
      "metadata": {
        "id": "r7Rh4xmEedE_"
      },
      "outputs": [],
      "source": [
        "# YOUR CODE HERE"
      ]
    },
    {
      "cell_type": "code",
      "execution_count": null,
      "metadata": {
        "id": "GHUzMms-fgzL"
      },
      "outputs": [],
      "source": [
        "# YOUR CODE HERE"
      ]
    },
    {
      "cell_type": "markdown",
      "metadata": {
        "id": "wNwLmg_93mFq"
      },
      "source": [
        "We get effectively the same summary becuase we have implemented the same model using the functional API."
      ]
    },
    {
      "cell_type": "code",
      "execution_count": null,
      "metadata": {
        "id": "ZjHyawfqfi-2"
      },
      "outputs": [],
      "source": [
        "# YOUR CODE HERE"
      ]
    },
    {
      "cell_type": "markdown",
      "metadata": {
        "id": "JPzngzNM4epF"
      },
      "source": [
        "A deeper network."
      ]
    },
    {
      "cell_type": "code",
      "execution_count": null,
      "metadata": {
        "id": "6-xXU4rbSGqn"
      },
      "outputs": [],
      "source": [
        "# from keras.layers import Dense\n",
        "# import keras\n",
        "#node = Layer(nodes, extra_params)(prev_node)\n",
        "# YOUR CODE HERE\n",
        "# YOUR CODE HERE                               #defining dense2 node whose parent is dense1\n",
        "# YOUR CODE HERE                               #defining output node where parent is dense2\n",
        "# YOUR CODE HERE"
      ]
    },
    {
      "cell_type": "code",
      "execution_count": null,
      "metadata": {
        "id": "X5fzZssHSsjY"
      },
      "outputs": [],
      "source": [
        "model.summary()"
      ]
    },
    {
      "cell_type": "code",
      "execution_count": null,
      "metadata": {
        "id": "FVAyv-0Tfp96"
      },
      "outputs": [],
      "source": [
        "plot_model(model)"
      ]
    },
    {
      "cell_type": "markdown",
      "metadata": {
        "id": "1GE-NpwSNlzp"
      },
      "source": [
        "An example where the Sequential API would not be sufficeint."
      ]
    },
    {
      "cell_type": "markdown",
      "metadata": {
        "id": "IbFGMtx2gGcX"
      },
      "source": [
        "**Multi-Input and Multi-output:** Consider an example of building a system to rank customer tickets by priority and route them to the appropriate departments.\n",
        "\n",
        "Outputs: model need to give two outputs\n",
        "1. First task of the model is to classify the tickets into priority and non priority (Binary classification)\n",
        "\n",
        "2. Second task is to route the ticket to appropriate department (Multi-class classification based on the number of departments)\n",
        "\n",
        "These two task are to be done simultaneously\n",
        "\n",
        "Inputs:\n",
        "1. Title of the ticket (text input)\n",
        "2. The text body of the ticket (text input)\n",
        "3. Any tags added by the user\n",
        "\n",
        "Q. Is it possible to build the model sequentially?\n",
        "\n",
        "A: No, we cannot build a multi-input , multi-output model through the sequential API, because, by definition itself, the required model is not sequential."
      ]
    },
    {
      "cell_type": "code",
      "execution_count": null,
      "metadata": {
        "id": "yRnAPB7Ff2tV"
      },
      "outputs": [],
      "source": [
        "vocabulary_size = 10000\n",
        "num_tags = 100\n",
        "num_departments = 4\n",
        "\n",
        "# Inputs\n",
        "# YOUR CODE HERE\n",
        "\n",
        "# Outputs\n",
        "# YOUR CODE HERE"
      ]
    },
    {
      "cell_type": "code",
      "execution_count": null,
      "metadata": {
        "id": "BNVaw-romnCB"
      },
      "outputs": [],
      "source": [
        "# Model Summary\n",
        "# YOUR CODE HERE"
      ]
    },
    {
      "cell_type": "code",
      "execution_count": null,
      "metadata": {
        "id": "Gzos2b6Nm1sg"
      },
      "outputs": [],
      "source": [
        "# YOUR CODE HERE"
      ]
    },
    {
      "cell_type": "markdown",
      "metadata": {
        "id": "yhkyvvNkki2Q"
      },
      "source": [
        "Reusing the model by training intermediate layer output"
      ]
    },
    {
      "cell_type": "code",
      "execution_count": null,
      "metadata": {
        "id": "vm0jZItWk6m9"
      },
      "outputs": [],
      "source": [
        "# YOUR CODE HERE"
      ]
    },
    {
      "cell_type": "code",
      "execution_count": null,
      "metadata": {
        "id": "r5B9Zh8XlnXA"
      },
      "outputs": [],
      "source": [
        "# YOUR CODE HERE"
      ]
    },
    {
      "cell_type": "code",
      "execution_count": null,
      "metadata": {
        "id": "9lxvxqOEl7sf"
      },
      "outputs": [],
      "source": [
        "keras.utils.plot_model(new_model)"
      ]
    },
    {
      "cell_type": "markdown",
      "metadata": {
        "id": "-bQlSKbDmGQn"
      },
      "source": [
        "# 3. Subclassing the Model class"
      ]
    },
    {
      "cell_type": "markdown",
      "metadata": {
        "id": "ZH5CS5eIKZWF"
      },
      "source": [
        "We saw how the functional API enabled us to make more complex models compared to the sequential API. We moved up the ladder of progressive disclosure of complexity.\n",
        "\n",
        "\n",
        "Defining the same old model by subclassing the Model class [[Reference](https://keras.io/api/models/model/)].\n"
      ]
    },
    {
      "cell_type": "code",
      "execution_count": null,
      "metadata": {
        "id": "Ks_pwLIQmHCG"
      },
      "outputs": [],
      "source": [
        "class CustomerTicketModel(keras.Model):\n",
        "\n",
        "# Define the layers in the __init__ method\n",
        "  def __init__(self, num_departments):\n",
        "    super().__init__()\n",
        "    self.concat_layer = keras.layers.Concatenate()\n",
        "    self.mixing_layer = keras.layers.Dense(64, activation=\"relu\")\n",
        "    self.priority_scorer = keras.layers.Dense(1, activation=\"sigmoid\")\n",
        "    self.department_classifier = keras.layers.Dense(num_departments,\n",
        "                                                    activation=\"softmax\")\n",
        "    \n",
        "\n",
        "# Define the relationship between layers in in the call method   \n",
        "# See Section 7.2.3 in Francois chollet for more details \n",
        "  def call(self,inputs):\n",
        "    # input should be dictionary type\n",
        "    title = inputs[\"title\"]\n",
        "    text_body = inputs[\"text_body\"]\n",
        "    tags = inputs[\"tags\"]\n",
        "\n",
        "    features = self.concat_layer([title, text_body, tags])\n",
        "    features = self.mixing_layer(features)\n",
        "\n",
        "    priority = self.priority_scorer(features)\n",
        "    department = self.department_classifier(features)\n",
        "\n",
        "    return priority, department"
      ]
    },
    {
      "cell_type": "code",
      "execution_count": null,
      "metadata": {
        "id": "jlsAUwhEmBVH"
      },
      "outputs": [],
      "source": [
        "# YOUR CODE HERE"
      ]
    },
    {
      "cell_type": "code",
      "execution_count": null,
      "metadata": {
        "id": "sEBHPhccsVHz"
      },
      "outputs": [],
      "source": [
        "# YOUR CODE HERE"
      ]
    },
    {
      "cell_type": "code",
      "execution_count": null,
      "metadata": {
        "id": "r_6VNQK89erZ"
      },
      "outputs": [],
      "source": [
        "# here model is built by calling the data since build() method is not \n",
        "# defined in model subclass \n",
        "# generate random data\n",
        "\n",
        "# YOUR CODE HERE"
      ]
    },
    {
      "cell_type": "code",
      "execution_count": null,
      "metadata": {
        "id": "ggm2YttTTXIq"
      },
      "outputs": [],
      "source": [
        "sub_class_model.summary()"
      ]
    },
    {
      "cell_type": "markdown",
      "metadata": {
        "id": "0zacePgu0KSv"
      },
      "source": [
        "## Building the model using custom dense layer and functional API\n",
        "### Building custom layer [[Reference](https://www.tensorflow.org/api_docs/python/tf/keras/layers/Layer)]."
      ]
    },
    {
      "cell_type": "code",
      "execution_count": null,
      "metadata": {
        "id": "9hfijADSlWyd"
      },
      "outputs": [],
      "source": [
        "from keras.initializers import RandomNormal"
      ]
    },
    {
      "cell_type": "code",
      "execution_count": null,
      "metadata": {
        "id": "I_eC0PSoOhJF"
      },
      "outputs": [],
      "source": [
        "class Custom_Dense(keras.layers.Layer):\n",
        "  def __init__(self, units, activation=None):\n",
        "    super() .__init__()\n",
        "    self.units = units\n",
        "    self.activation = activation\n",
        "\n",
        "  # Subclassing gives us the flexibility here to initialize weights on our own\n",
        "  def build(self, input_shape):\n",
        "    input_dim = input_shape[-1]\n",
        "    std_dev = np.sqrt(2/(input_dim + self.units))\n",
        "    self.W = self.add_weight(shape=(input_dim, self.units),\n",
        "                            initializer=RandomNormal(stddev=std_dev))\n",
        "    self.b = self.add_weight(shape=(self.units,),\n",
        "                             initializer=\"zeros\")\n",
        "    \n",
        "  def call(self, inputs):\n",
        "    y = tf.matmul(inputs, self.W) + self.b\n",
        "    if self.activation is not None:\n",
        "      y = self.activation(y)\n",
        "    return y\n"
      ]
    },
    {
      "cell_type": "markdown",
      "metadata": {
        "id": "gfOyUTR8hxWr"
      },
      "source": [
        "We can even define custom metrics and custom loss functions using the subclassing API. Refer to Section 7.3.1 of Chollet for details."
      ]
    },
    {
      "cell_type": "markdown",
      "source": [
        "### Using custom dense layer with functional API\n"
      ],
      "metadata": {
        "id": "yniIioTy3kGx"
      }
    },
    {
      "cell_type": "code",
      "execution_count": null,
      "metadata": {
        "id": "RAuxXHxh1CNt"
      },
      "outputs": [],
      "source": [
        "# YOUR CODE HERE"
      ]
    },
    {
      "cell_type": "code",
      "execution_count": null,
      "metadata": {
        "id": "SUKJ4z3A1sJY"
      },
      "outputs": [],
      "source": [
        "# Model Summary\n",
        "# YOUR CODE HERE"
      ]
    },
    {
      "cell_type": "code",
      "execution_count": null,
      "metadata": {
        "id": "SP_wZ5iU-pBx"
      },
      "outputs": [],
      "source": [
        "# Plot the model\n",
        "# YOUR CODE HERE"
      ]
    },
    {
      "cell_type": "code",
      "execution_count": null,
      "metadata": {
        "id": "5DFEbVhX1zJa"
      },
      "outputs": [],
      "source": [
        "# Compile the model\n",
        "# YOUR CODE HERE"
      ]
    },
    {
      "cell_type": "code",
      "execution_count": null,
      "metadata": {
        "id": "LhVlMHxH4GxT"
      },
      "outputs": [],
      "source": [
        "train_x = train_images[10000:]\n",
        "train_y = train_labels[10000:]\n",
        "val_x = train_images[:10000]\n",
        "val_y = train_labels[:10000]"
      ]
    },
    {
      "cell_type": "code",
      "execution_count": null,
      "metadata": {
        "id": "HYIq1Erz4NYq"
      },
      "outputs": [],
      "source": [
        "# Train the model\n",
        "# YOUR CODE HERE"
      ]
    },
    {
      "cell_type": "code",
      "execution_count": null,
      "metadata": {
        "id": "Z6QIIAEVBlA_"
      },
      "outputs": [],
      "source": [
        "# YOUR CODE HERE"
      ]
    },
    {
      "cell_type": "code",
      "execution_count": null,
      "metadata": {
        "id": "NgwaEhddCId2"
      },
      "outputs": [],
      "source": [
        "# YOUR CODE HERE"
      ]
    },
    {
      "cell_type": "markdown",
      "metadata": {
        "id": "4oeyc7A--4tK"
      },
      "source": [
        "Q. What is the difference between evaluate() and predict()\n",
        "\n",
        "A: evaluate() returns the loss score and evaluation score. predict() runs a forward pass for the given input data."
      ]
    },
    {
      "cell_type": "markdown",
      "source": [
        "\"predict\" is used to make predictions on new data using a trained model. Given an input tensor, the \"predict\" function outputs the corresponding predictions generated by the model.\n",
        "\n",
        "\"evaluate\" is used to evaluate the performance of a trained model on a given dataset. Given an input dataset, the \"evaluate\" function computes the model's performance metrics, such as accuracy, loss, or any other metrics defined during model compilation."
      ],
      "metadata": {
        "id": "e4FdxPG4a3Zn"
      }
    },
    {
      "cell_type": "code",
      "execution_count": null,
      "metadata": {
        "id": "WEY25GH4CgsE"
      },
      "outputs": [],
      "source": [
        "model.evaluate(test_images,test_labels)"
      ]
    },
    {
      "cell_type": "code",
      "execution_count": null,
      "metadata": {
        "id": "41qJqZfgGCaS"
      },
      "outputs": [],
      "source": [
        "class_predicted = np.argmax(model.predict(test_images),axis=1)\n",
        "accuracy = np.sum(class_predicted == test_labels)/len(test_labels)\n",
        "print(accuracy)"
      ]
    },
    {
      "cell_type": "code",
      "execution_count": null,
      "metadata": {
        "id": "tKb-DqiGDfdT"
      },
      "outputs": [],
      "source": [
        "from sklearn.metrics import confusion_matrix, classification_report"
      ]
    },
    {
      "cell_type": "code",
      "execution_count": null,
      "metadata": {
        "id": "3mogsqOiDoxt"
      },
      "outputs": [],
      "source": [
        "# Display Classification report\n",
        "# YOUR CODE HERE"
      ]
    },
    {
      "cell_type": "code",
      "execution_count": null,
      "metadata": {
        "id": "-aAMoqq9DyiW"
      },
      "outputs": [],
      "source": [
        "print(confusion_matrix(test_labels, class_predicted))"
      ]
    },
    {
      "cell_type": "code",
      "execution_count": null,
      "metadata": {
        "id": "7APwypLtAJq0"
      },
      "outputs": [],
      "source": [
        "#save model"
      ]
    },
    {
      "cell_type": "markdown",
      "metadata": {
        "id": "D0P6lYTZeaqH"
      },
      "source": [
        "# Using Callbacks"
      ]
    },
    {
      "cell_type": "markdown",
      "metadata": {
        "id": "ollrAr-MxRnW"
      },
      "source": [
        "A callback is an object that can perform actions at various stages of training (e.g. at the start or end of an epoch, before or after a single batch, etc).\n",
        "\n",
        "You can use callbacks to:\n",
        "\n",
        "* Write TensorBoard logs after every batch of training to monitor your metrics\n",
        "* Periodically save your model to disk\n",
        "* Do early stopping\n",
        "* Get a view on internal states and statistics of a model during training\n",
        "\n",
        "Access Keras callbacks [here](https://keras.io/api/callbacks/)"
      ]
    },
    {
      "cell_type": "code",
      "execution_count": null,
      "metadata": {
        "id": "jFIa20V_QsG8"
      },
      "outputs": [],
      "source": [
        "# build model using functional API\n",
        "inputs = Input(shape=(28*28,))\n",
        "features = Dense(512,activation=\"relu\")(inputs)\n",
        "features = keras.layers.Dropout(0.5)(features)\n",
        "outputs = Dense(10,activation=\"softmax\")(features)\n",
        "\n",
        "mnist_model = keras.Model(inputs, outputs)"
      ]
    },
    {
      "cell_type": "code",
      "execution_count": null,
      "metadata": {
        "id": "f9Eky3r5ewYC"
      },
      "outputs": [],
      "source": [
        "from keras.callbacks import EarlyStopping, ModelCheckpoint, TensorBoard"
      ]
    },
    {
      "cell_type": "code",
      "execution_count": null,
      "metadata": {
        "id": "S7n_3VNiQsJS"
      },
      "outputs": [],
      "source": [
        "# YOUR CODE HERE"
      ]
    },
    {
      "cell_type": "code",
      "execution_count": null,
      "metadata": {
        "id": "rKEhf3ZxQsLn"
      },
      "outputs": [],
      "source": [
        "# Compile the model\n",
        "# YOUR CODE HERE"
      ]
    },
    {
      "cell_type": "code",
      "execution_count": null,
      "metadata": {
        "id": "bgQoB39dQsNy"
      },
      "outputs": [],
      "source": [
        "# YOUR CODE HERE"
      ]
    },
    {
      "cell_type": "markdown",
      "metadata": {
        "id": "JakR-KExx7RW"
      },
      "source": [
        "###TensorBoard \n",
        "\n",
        "It is a visualization tool provided with TensorFlow.\n",
        "\n",
        "This callback logs events for TensorBoard, including:\n",
        "\n",
        "* Metrics summary plots\n",
        "* Training graph visualization\n",
        "* Weight histograms\n",
        "* Sampled profiling"
      ]
    },
    {
      "cell_type": "code",
      "execution_count": null,
      "metadata": {
        "id": "dXtNgUBgQsQN"
      },
      "outputs": [],
      "source": [
        "# Tensorboard Visualization\n",
        "# YOUR CODE HERE"
      ]
    },
    {
      "cell_type": "markdown",
      "metadata": {
        "id": "V92U6cInMvDz"
      },
      "source": [
        "**Reference**\n",
        "\n",
        "\n",
        "*   Chollet, F. (2021). Deep learning with python. Manning Publications.\n",
        "*   Geron,Aurelien(2022): Hands-On Machine Learning with Scikit-Learn, Keras, and TensorFlow, O'Reilly Media, Inc. Publications\n",
        "\n"
      ]
    },
    {
      "cell_type": "markdown",
      "metadata": {
        "id": "VHfHdGCP_n6Y"
      },
      "source": [
        "### Please answer the questions below to complete the experiment:\n",
        "\n",
        "\n"
      ]
    },
    {
      "cell_type": "code",
      "execution_count": null,
      "metadata": {
        "id": "VgSwVENIPcM6"
      },
      "outputs": [],
      "source": [
        "#@title  Which of the following statement is best suitable for Keras functional API?  { run: \"auto\", form-width: \"500px\", display-mode: \"form\" }\n",
        "Answer = \"\" #@param [\"\", \"We can use it to create all aspects of the neural network from scratch and have complete control and flexibility.\", \"It is best suitable for creating simple architectures.\", \"It provides flexibility to design complex topologies of neural network which includes shared layers, branching, multiple input and output.\", \"All of the above\"]"
      ]
    },
    {
      "cell_type": "code",
      "execution_count": null,
      "metadata": {
        "id": "NMzKSbLIgFzQ"
      },
      "outputs": [],
      "source": [
        "#@title How was the experiment? { run: \"auto\", form-width: \"500px\", display-mode: \"form\" }\n",
        "Complexity = \"\" #@param [\"\",\"Too Simple, I am wasting time\", \"Good, But Not Challenging for me\", \"Good and Challenging for me\", \"Was Tough, but I did it\", \"Too Difficult for me\"]\n"
      ]
    },
    {
      "cell_type": "code",
      "execution_count": null,
      "metadata": {
        "id": "DjcH1VWSFI2l"
      },
      "outputs": [],
      "source": [
        "#@title If it was too easy, what more would you have liked to be added? If it was very difficult, what would you have liked to have been removed? { run: \"auto\", display-mode: \"form\" }\n",
        "Additional = \"\" #@param {type:\"string\"}\n"
      ]
    },
    {
      "cell_type": "code",
      "execution_count": null,
      "metadata": {
        "id": "4VBk_4VTAxCM"
      },
      "outputs": [],
      "source": [
        "#@title Can you identify the concepts from the lecture which this experiment covered? { run: \"auto\", vertical-output: true, display-mode: \"form\" }\n",
        "Concepts = \"\" #@param [\"\",\"Yes\", \"No\"]\n"
      ]
    },
    {
      "cell_type": "code",
      "execution_count": null,
      "metadata": {
        "id": "XH91cL1JWH7m"
      },
      "outputs": [],
      "source": [
        "#@title  Text and image description/explanation and code comments within the experiment: { run: \"auto\", vertical-output: true, display-mode: \"form\" }\n",
        "Comments = \"\" #@param [\"\",\"Very Useful\", \"Somewhat Useful\", \"Not Useful\", \"Didn't use\"]\n"
      ]
    },
    {
      "cell_type": "code",
      "execution_count": null,
      "metadata": {
        "id": "z8xLqj7VWIKW"
      },
      "outputs": [],
      "source": [
        "#@title Mentor Support: { run: \"auto\", vertical-output: true, display-mode: \"form\" }\n",
        "Mentor_support = \"\" #@param [\"\",\"Very Useful\", \"Somewhat Useful\", \"Not Useful\", \"Didn't use\"]\n"
      ]
    },
    {
      "cell_type": "code",
      "execution_count": null,
      "metadata": {
        "cellView": "form",
        "id": "FzAZHt1zw-Y-"
      },
      "outputs": [],
      "source": [
        "#@title Run this cell to submit your notebook for grading { vertical-output: true }\n",
        "try:\n",
        "  if submission_id:\n",
        "      return_id = submit_notebook()\n",
        "      if return_id : submission_id = return_id\n",
        "  else:\n",
        "      print(\"Please complete the setup first.\")\n",
        "except NameError:\n",
        "  print (\"Please complete the setup first.\")"
      ]
    },
    {
      "cell_type": "markdown",
      "metadata": {
        "id": "QaGvGFMsQ8Hh"
      },
      "source": [
        "# Assignment [Optional]\n",
        "Please attempt the exercises below, they will be discussed in the next tutorial session.\n",
        "\n",
        "## Q1\n",
        "\n",
        "Train a DNN using the sequntial API on the [MNIST fashion dataset](https://keras.io/api/datasets/fashion_mnist/) by following the instructions given below:\n",
        "\n",
        "\n",
        "1.   Import all the necessary modules \n",
        "2.   Use the sequential API to make a model with the following dense layers: \n",
        "\n",
        "        i. layer-1: 128 neurons, relu activation\n",
        "\n",
        "        ii. layer-2: X neurons, softmax activation\n",
        "        (Deduce the value of X based on the number of classes in the MNIST fashion dataset)\n",
        "\n",
        "        iii. Define the input_shape=(None, Y) for the model. Deduce Y from the dataset\n",
        "        \n",
        "        iV. Plot the model (plot_model())\n",
        "\n",
        "3.  Load the mnist fashion data from keras.datasets and perform necessary preprocessing (like reshaping and normalizing) on the train and test sets.\n",
        "\n",
        "4. Split the original training set into train and validation (10%) sets\n",
        "\n",
        "5.  Compile the model using apropriate loss, any optimizer, and \"accuracy\" metric\n",
        "\n",
        "6.  Define CallbackList with EarlyStopping (patience=2) and Tensorboard callbacks.\n",
        "\n",
        "7.  Fit the model on training data for 10 epochs. \n",
        "      \n",
        "8.  Predict the labels of the first 5 images in the test set.\n",
        "\n",
        "9. Use the history returned by model.fit()  and plot: \n",
        "        (i), training and validation loss with the epochs. \n",
        "        (ii) Training and validation accuracy with epochs. Are these two plots identical to what we see in tensorboard ?\n",
        "\n",
        "10. Report the metrics, confusion matrix and classification report.\n",
        "\n",
        "\n",
        "There are no points for accuracy of models. We will only evaluate correct implementation. **Write the code for each subpart in a new cell.**\n",
        "\n",
        "\n",
        "\\\\\n",
        "\n",
        "## Q2\n",
        "Use the functional API to make [this model](https://indianinstituteofscience-my.sharepoint.com/:i:/g/personal/rohitc1_iisc_ac_in/EbhB2Uh7DQZKuI4xVXgpidcBuvT_FL6XlnDgwnyGX7wxzg?e=B8pput). You can use any shape for the layers. Use the plot_model() utility to show the model graph."
      ]
    }
  ],
  "metadata": {
    "accelerator": "GPU",
    "colab": {
      "provenance": [],
      "include_colab_link": true
    },
    "kernelspec": {
      "display_name": "Python 3 (ipykernel)",
      "language": "python",
      "name": "python3"
    },
    "language_info": {
      "codemirror_mode": {
        "name": "ipython",
        "version": 3
      },
      "file_extension": ".py",
      "mimetype": "text/x-python",
      "name": "python",
      "nbconvert_exporter": "python",
      "pygments_lexer": "ipython3",
      "version": "3.10.4"
    }
  },
  "nbformat": 4,
  "nbformat_minor": 0
}